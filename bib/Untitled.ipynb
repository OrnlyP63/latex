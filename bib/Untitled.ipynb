{
 "cells": [
  {
   "cell_type": "code",
   "execution_count": 7,
   "id": "45bd8673",
   "metadata": {},
   "outputs": [],
   "source": [
    "import io\n",
    "\n",
    "bibtex = \"\"\"@ARTICLE{Cesar2013,\n",
    "  author = {Jean César},\n",
    "  title = {An amazing title},\n",
    "  year = {2013},\n",
    "  volume = {12},\n",
    "  pages = {12--23},\n",
    "  journal = {Nice Journal},\n",
    "  abstract = {This is an abstract. This line should be long enough to test\n",
    "     multilines...},\n",
    "  comments = {A comment},\n",
    "  keywords = {keyword1, keyword2}\n",
    "}\n",
    "\"\"\"\n",
    "\n",
    "with io.open('bibtex.bib', 'w', encoding=\"utf-8\") as bibfile:\n",
    "    bibfile.write(bibtex)"
   ]
  },
  {
   "cell_type": "code",
   "execution_count": 5,
   "id": "0e1ec954",
   "metadata": {},
   "outputs": [],
   "source": [
    "import bibtexparser"
   ]
  },
  {
   "cell_type": "code",
   "execution_count": 8,
   "id": "6ae68175",
   "metadata": {},
   "outputs": [
    {
     "name": "stdout",
     "output_type": "stream",
     "text": [
      "[{'keywords': 'keyword1, keyword2', 'comments': 'A comment', 'abstract': 'This is an abstract. This line should be long enough to test\\nmultilines...', 'journal': 'Nice Journal', 'pages': '12--23', 'volume': '12', 'year': '2013', 'title': 'An amazing title', 'author': 'Jean Cรฉsar', 'ENTRYTYPE': 'article', 'ID': 'Cesar2013'}]\n"
     ]
    }
   ],
   "source": [
    "with open('bibtex.bib') as bibtex_file:\n",
    "    bib_database = bibtexparser.load(bibtex_file)\n",
    "\n",
    "print(bib_database.entries)"
   ]
  },
  {
   "cell_type": "code",
   "execution_count": 9,
   "id": "00525e80",
   "metadata": {},
   "outputs": [
    {
     "name": "stdout",
     "output_type": "stream",
     "text": [
      "[]\n",
      "[]\n",
      "OrderedDict()\n"
     ]
    }
   ],
   "source": [
    "print(bib_database.comments)\n",
    "print(bib_database.preambles)\n",
    "print(bib_database.strings)"
   ]
  },
  {
   "cell_type": "code",
   "execution_count": null,
   "id": "c4f53c85",
   "metadata": {},
   "outputs": [],
   "source": []
  }
 ],
 "metadata": {
  "kernelspec": {
   "display_name": "Python 3",
   "language": "python",
   "name": "python3"
  },
  "language_info": {
   "codemirror_mode": {
    "name": "ipython",
    "version": 3
   },
   "file_extension": ".py",
   "mimetype": "text/x-python",
   "name": "python",
   "nbconvert_exporter": "python",
   "pygments_lexer": "ipython3",
   "version": "3.8.8"
  }
 },
 "nbformat": 4,
 "nbformat_minor": 5
}
